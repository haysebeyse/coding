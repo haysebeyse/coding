{
 "cells": [
  {
   "cell_type": "code",
   "execution_count": 1,
   "metadata": {},
   "outputs": [],
   "source": [
    "def quicksort(array):\n",
    "  if len(array) < 2:\n",
    "    return array\n",
    "  else:\n",
    "    pivot = array[0]\n",
    "    less = [i for i in array[1:] if i <= pivot]\n",
    "    print(str(less) + \" < \" + str(pivot))\n",
    "    greater = [i for i in array[1:] if i > pivot]\n",
    "    print(str(greater) + \" > \" + str(pivot))\n",
    "    print(\"\\n\")\n",
    "    return quicksort(less) + [pivot] + quicksort(greater)"
   ]
  },
  {
   "cell_type": "code",
   "execution_count": 2,
   "metadata": {},
   "outputs": [
    {
     "output_type": "stream",
     "name": "stdout",
     "text": [
      "[5, 2, 3, 4, 4, 0, 8, 1, 9, 9] < 10\n[] > 10\n\n\n[2, 3, 4, 4, 0, 1] < 5\n[8, 9, 9] > 5\n\n\n[0, 1] < 2\n[3, 4, 4] > 2\n\n\n[] < 0\n[1] > 0\n\n\n[] < 3\n[4, 4] > 3\n\n\n[4] < 4\n[] > 4\n\n\n[] < 8\n[9, 9] > 8\n\n\n[9] < 9\n[] > 9\n\n\n[0, 1, 2, 3, 4, 4, 5, 8, 9, 9, 10]\n"
     ]
    }
   ],
   "source": [
    "print(quicksort([10, 5, 2, 3, 4, 4, 0, 8, 1, 9, 9]))"
   ]
  }
 ],
 "metadata": {
  "kernelspec": {
   "display_name": "Python 3",
   "language": "python",
   "name": "python3"
  },
  "language_info": {
   "codemirror_mode": {
    "name": "ipython",
    "version": 3
   },
   "file_extension": ".py",
   "mimetype": "text/x-python",
   "name": "python",
   "nbconvert_exporter": "python",
   "pygments_lexer": "ipython3",
   "version": "3.6.9-final"
  }
 },
 "nbformat": 4,
 "nbformat_minor": 4
}